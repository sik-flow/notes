{
 "cells": [
  {
   "cell_type": "markdown",
   "metadata": {},
   "source": [
    "### Gradient Descent"
   ]
  },
  {
   "cell_type": "markdown",
   "metadata": {},
   "source": [
    "When starting with your regression you initialize you regression coefficients with random variables, then use gradient descent to find minimize the error (cost function).\n",
    "\n",
    "![Slope](https://raw.githubusercontent.com/sik-flow/notes/master/Pics/Slope.png)\n",
    "_Image Source: https://davidmatablog.wordpress.com/2017/08/01/linear-regression-gradient-descent-with-python/_\n",
    "\n",
    "Notice how we slowly inch down to the minimum of the error, this is gradient descent in action.  Lets start with a simple example!"
   ]
  },
  {
   "cell_type": "markdown",
   "metadata": {},
   "source": [
    "![Iteration1](https://raw.githubusercontent.com/sik-flow/notes/master/Pics/Initial1.png)"
   ]
  },
  {
   "cell_type": "markdown",
   "metadata": {},
   "source": [
    "In this example we start with an input of 3 and an actual value of 14.  The weight is 3 (this was completly random at the beginning), which makes our predicted value 9 (input 3 multiplied by the weight of 3).  This gives us an error of of -5 (predicted value of 9 minus an actual value of 14).  We now need to update the weight, we are going to do that with gradient descent.  To update the weight we need 2 things:\n",
    "\n",
    "1. Slope of the loss function - which is 2 * error\n",
    "2. Value of the input\n",
    "\n",
    "Part one slope of the loss function is 2 * -5 = -10\n",
    "Part 2 is 3\n",
    "\n",
    "Next we muliple these numbers together (-10 x 3) and get -30.  We need to multiply this number by a learning rate.  The learning rate is a hyper-parameter that controls how much we adjust the weights of our network.  Its a good idea to use a small number so that we do not go pass the minimum value.  A common choice is to use 0.01, which is what we will use.  The new weight we will use is 3 - (0.01 x -30), which is 3.3.  Lets try it out!"
   ]
  },
  {
   "cell_type": "markdown",
   "metadata": {},
   "source": [
    "![Iteration2](https://raw.githubusercontent.com/sik-flow/notes/master/Pics/Iteration_2.png)"
   ]
  },
  {
   "cell_type": "markdown",
   "metadata": {},
   "source": [
    "This time our error is -4.1, which is an improvement over iteration number 1 where our error was 5.  Lets update the weights and continue.  \n",
    "\n",
    "New slope = 3.3 - (0.01 x -24.6) = 3.546"
   ]
  },
  {
   "cell_type": "markdown",
   "metadata": {},
   "source": [
    "![Iteration3](https://raw.githubusercontent.com/sik-flow/notes/master/Pics/Iteration_3.png)"
   ]
  },
  {
   "cell_type": "markdown",
   "metadata": {},
   "source": [
    "Now we have an error of -3.362, which means we are still trending down.  Lets update the weight again.\n",
    "\n",
    "New slope = 3.546 - (0.01 * -20.172) = 3.7477"
   ]
  },
  {
   "cell_type": "markdown",
   "metadata": {},
   "source": [
    "![Iteration4](https://raw.githubusercontent.com/sik-flow/notes/master/Pics/Iteration_4.png)"
   ]
  },
  {
   "cell_type": "markdown",
   "metadata": {},
   "source": [
    "New error is -2.7569.  Lets update the weight again.\n",
    "\n",
    "New slope = 3.7477 - (0.01 x -16.5414) = 3.913"
   ]
  },
  {
   "cell_type": "markdown",
   "metadata": {},
   "source": [
    "![Iteration5](https://raw.githubusercontent.com/sik-flow/notes/master/Pics/Iteration_5.png)"
   ]
  },
  {
   "cell_type": "markdown",
   "metadata": {},
   "source": [
    "- New error: -2.261\n",
    "- New slope: 3.913 - (0.01 x -13.566) = 4.049"
   ]
  },
  {
   "cell_type": "markdown",
   "metadata": {},
   "source": [
    "![Iteration6](https://raw.githubusercontent.com/sik-flow/notes/master/Pics/Iteration_6.png)"
   ]
  },
  {
   "cell_type": "markdown",
   "metadata": {},
   "source": [
    "- New error: -1.853\n",
    "- New slope: 4.049 - (0.01 x -11.118) = 4.160"
   ]
  },
  {
   "cell_type": "markdown",
   "metadata": {},
   "source": [
    "![Iteration7](https://raw.githubusercontent.com/sik-flow/notes/master/Pics/Iteration_7.png)"
   ]
  },
  {
   "cell_type": "markdown",
   "metadata": {},
   "source": [
    "- New error: -1.52\n",
    "- New slope: 4.160 - (0.01 x -9.12) = 4.251"
   ]
  },
  {
   "cell_type": "markdown",
   "metadata": {},
   "source": [
    "![Iteration8](https://raw.githubusercontent.com/sik-flow/notes/master/Pics/Iteration_8.png)"
   ]
  },
  {
   "cell_type": "markdown",
   "metadata": {},
   "source": [
    "- New error: -1.247\n",
    "- New slope: 4.251 - (0.01 x -7.482) = 4.326"
   ]
  },
  {
   "cell_type": "markdown",
   "metadata": {},
   "source": [
    "![Iteration9](https://raw.githubusercontent.com/sik-flow/notes/master/Pics/Iteration_9.png)"
   ]
  },
  {
   "cell_type": "markdown",
   "metadata": {},
   "source": [
    "- New error: -1.022\n",
    "- New slope: 4.326 - (0.01 x -6.132) = 4.387"
   ]
  },
  {
   "cell_type": "markdown",
   "metadata": {},
   "source": [
    "![Iteration10](https://raw.githubusercontent.com/sik-flow/notes/master/Pics/Iteration_10.png)"
   ]
  },
  {
   "cell_type": "markdown",
   "metadata": {},
   "source": [
    "- New error: -0.839\n",
    "- New slope: 4.387 - (0.01 x -5.034) = 4.437"
   ]
  },
  {
   "cell_type": "markdown",
   "metadata": {},
   "source": [
    "![Iteration11](https://raw.githubusercontent.com/sik-flow/notes/master/Pics/Iteration_11.png)"
   ]
  },
  {
   "cell_type": "markdown",
   "metadata": {},
   "source": [
    "- New error: -0.689\n",
    "- New slope: 4.437 - (0.01 x -4.134) = 4.478"
   ]
  },
  {
   "cell_type": "markdown",
   "metadata": {},
   "source": [
    "![Iteration12](https://raw.githubusercontent.com/sik-flow/notes/master/Pics/Iteration12.png)"
   ]
  },
  {
   "cell_type": "markdown",
   "metadata": {},
   "source": [
    "- New error: -0.566\n",
    "- New slope: 4.478 - (0.01 x -3.396) = 4.512"
   ]
  },
  {
   "cell_type": "markdown",
   "metadata": {},
   "source": [
    "![Iteration13](https://raw.githubusercontent.com/sik-flow/notes/master/Pics/Iteration_13.png)"
   ]
  },
  {
   "cell_type": "markdown",
   "metadata": {},
   "source": [
    "- New error: -0.464\n",
    "- New slope: 4.512 - (0.01 x -2.784) = 4.540"
   ]
  },
  {
   "cell_type": "markdown",
   "metadata": {},
   "source": [
    "![Iteration14](https://raw.githubusercontent.com/sik-flow/notes/master/Pics/Iteration_14.png)"
   ]
  },
  {
   "cell_type": "markdown",
   "metadata": {},
   "source": [
    "- New error: -0.380\n",
    "- New slope: 4.54 - (0.01 x -2.28) = 4.563"
   ]
  },
  {
   "cell_type": "markdown",
   "metadata": {},
   "source": [
    "![Iteration15](https://raw.githubusercontent.com/sik-flow/notes/master/Pics/Iteration_15.png)"
   ]
  },
  {
   "cell_type": "markdown",
   "metadata": {},
   "source": [
    "- New error: -0.311\n",
    "- New slope: 4.563 - (0.01 x -1.1866) = 4.582"
   ]
  },
  {
   "cell_type": "markdown",
   "metadata": {},
   "source": [
    "![Iteration16](https://raw.githubusercontent.com/sik-flow/notes/master/Pics/Iteration_16.png)"
   ]
  },
  {
   "cell_type": "markdown",
   "metadata": {},
   "source": [
    "- New error: -0.254\n",
    "- New slope: 4.582 - (0.01 x -1.524) = 4.597"
   ]
  },
  {
   "cell_type": "markdown",
   "metadata": {},
   "source": [
    "![Iteration17](https://raw.githubusercontent.com/sik-flow/notes/master/Pics/Iteration_17.png)"
   ]
  },
  {
   "cell_type": "markdown",
   "metadata": {},
   "source": [
    "- New error: -0.209\n",
    "- New slope: 4.597 - (0.01 x -1.254) = 4.610"
   ]
  },
  {
   "cell_type": "markdown",
   "metadata": {},
   "source": [
    "![Iteration18](https://raw.githubusercontent.com/sik-flow/notes/master/Pics/Iteration_18.png)"
   ]
  },
  {
   "cell_type": "markdown",
   "metadata": {},
   "source": [
    "- New error: -0.170\n",
    "- New slope: 4.610 - (0.01 x -1.02) = 4.620"
   ]
  },
  {
   "cell_type": "markdown",
   "metadata": {},
   "source": [
    "![Iteration19](https://raw.githubusercontent.com/sik-flow/notes/master/Pics/Iteration_19.png)"
   ]
  },
  {
   "cell_type": "markdown",
   "metadata": {},
   "source": [
    "- New error: -0.140\n",
    "- New slope: 4.620 - (0.01 x -0.84) = 4.628"
   ]
  },
  {
   "cell_type": "markdown",
   "metadata": {},
   "source": [
    "![Iteration20](https://raw.githubusercontent.com/sik-flow/notes/master/Pics/Iteration_20.png)"
   ]
  },
  {
   "cell_type": "markdown",
   "metadata": {},
   "source": [
    "- New error: -0.12\n",
    "- New slope: 4.628 - (0.01 x -0.72) = 4.635"
   ]
  },
  {
   "cell_type": "markdown",
   "metadata": {},
   "source": [
    "After 20 iterations I have a weight of 4.628 and a predicted value of 13.88.  If I continue this iterative process, I will continue to get closer and closer to 14.  I am now going to demonstrate how to program this."
   ]
  },
  {
   "cell_type": "code",
   "execution_count": 82,
   "metadata": {},
   "outputs": [
    {
     "name": "stdout",
     "output_type": "stream",
     "text": [
      "Iteration Number 1 - Error: -5 - Predicted Value 9 - Weight 3\n",
      "Iteration Number 2 - Error: -4.1 - Predicted Value 9.9 - Weight 3.3\n",
      "Iteration Number 3 - Error: -3.362 - Predicted Value 10.638 - Weight 3.546\n",
      "Iteration Number 4 - Error: -2.757 - Predicted Value 11.243 - Weight 3.748\n",
      "Iteration Number 5 - Error: -2.261 - Predicted Value 11.739 - Weight 3.913\n",
      "Iteration Number 6 - Error: -1.854 - Predicted Value 12.146 - Weight 4.049\n",
      "Iteration Number 7 - Error: -1.52 - Predicted Value 12.48 - Weight 4.16\n",
      "Iteration Number 8 - Error: -1.246 - Predicted Value 12.754 - Weight 4.251\n",
      "Iteration Number 9 - Error: -1.022 - Predicted Value 12.978 - Weight 4.326\n",
      "Iteration Number 10 - Error: -0.838 - Predicted Value 13.162 - Weight 4.387\n",
      "Iteration Number 11 - Error: -0.687 - Predicted Value 13.313 - Weight 4.438\n",
      "Iteration Number 12 - Error: -0.564 - Predicted Value 13.436 - Weight 4.479\n",
      "Iteration Number 13 - Error: -0.462 - Predicted Value 13.538 - Weight 4.513\n",
      "Iteration Number 14 - Error: -0.379 - Predicted Value 13.621 - Weight 4.54\n",
      "Iteration Number 15 - Error: -0.311 - Predicted Value 13.689 - Weight 4.563\n",
      "Iteration Number 16 - Error: -0.255 - Predicted Value 13.745 - Weight 4.582\n",
      "Iteration Number 17 - Error: -0.209 - Predicted Value 13.791 - Weight 4.597\n",
      "Iteration Number 18 - Error: -0.171 - Predicted Value 13.829 - Weight 4.61\n",
      "Iteration Number 19 - Error: -0.14 - Predicted Value 13.86 - Weight 4.62\n",
      "Iteration Number 20 - Error: -0.115 - Predicted Value 13.885 - Weight 4.628\n",
      "Iteration Number 21 - Error: -0.094 - Predicted Value 13.906 - Weight 4.635\n",
      "Iteration Number 22 - Error: -0.077 - Predicted Value 13.923 - Weight 4.641\n",
      "Iteration Number 23 - Error: -0.064 - Predicted Value 13.936 - Weight 4.645\n",
      "Iteration Number 24 - Error: -0.052 - Predicted Value 13.948 - Weight 4.649\n",
      "Iteration Number 25 - Error: -0.043 - Predicted Value 13.957 - Weight 4.652\n",
      "Iteration Number 26 - Error: -0.035 - Predicted Value 13.965 - Weight 4.655\n",
      "Iteration Number 27 - Error: -0.029 - Predicted Value 13.971 - Weight 4.657\n",
      "Iteration Number 28 - Error: -0.024 - Predicted Value 13.976 - Weight 4.659\n",
      "Iteration Number 29 - Error: -0.019 - Predicted Value 13.981 - Weight 4.66\n",
      "Iteration Number 30 - Error: -0.016 - Predicted Value 13.984 - Weight 4.661\n",
      "Iteration Number 31 - Error: -0.013 - Predicted Value 13.987 - Weight 4.662\n",
      "Iteration Number 32 - Error: -0.011 - Predicted Value 13.989 - Weight 4.663\n",
      "Iteration Number 33 - Error: -0.009 - Predicted Value 13.991 - Weight 4.664\n"
     ]
    }
   ],
   "source": [
    "input_val = 3\n",
    "weight = 3\n",
    "actual_val = 14\n",
    "error = (input_val * weight) - actual_val\n",
    "learning_rate = 0.01\n",
    "counter = 1\n",
    "predicted_val = input_val * weight\n",
    "error_list = []\n",
    "\n",
    "while abs(error) > 0.01:    # I will stop my loop after my error is greater than 0.01\n",
    "    error = (input_val * weight) - actual_val\n",
    "    error_list.append(error)\n",
    "    predicted_val = input_val * weight\n",
    "    print ('Iteration Number {} - Error: {} - Predicted Value {} - Weight {}'.format(counter, round(error, 3), \n",
    "                                                                         round(predicted_val, 3), \n",
    "                                                                                    round(weight, 3)))\n",
    "    weight = (weight - (learning_rate * (error * 2 * 3)))\n",
    "    counter += 1"
   ]
  },
  {
   "cell_type": "markdown",
   "metadata": {},
   "source": [
    "After 33 iterations we end up with a predicted value of 13.991.  I saved all of the error terms in a list, lets plot this out to see what happenes as our error gets smaller and smaller."
   ]
  },
  {
   "cell_type": "code",
   "execution_count": null,
   "metadata": {
    "collapsed": true
   },
   "outputs": [],
   "source": [
    "import matplotlib.pyplot as plt\n",
    "import numpy as np\n",
    "\n",
    "X = np.arange(1, 34)\n",
    "plt.plot(X, np.abs(error_list))\n",
    "plt.xlabel('Iterations')\n",
    "plt.ylabel('Absolute Value of Error')\n",
    "plt.title('Absolute Value of Error by Number of Iterations')\n",
    "plt.show()"
   ]
  },
  {
   "cell_type": "markdown",
   "metadata": {},
   "source": [
    "![Plot](https://raw.githubusercontent.com/sik-flow/notes/master/Pics/Plot.png)"
   ]
  },
  {
   "cell_type": "markdown",
   "metadata": {},
   "source": [
    "At the beginning when the error is large the value of your error decreases by a larger amount over each iteration.  As your error gets smaller, you make very small decreases in your error over each iteration.  "
   ]
  }
 ],
 "metadata": {
  "kernelspec": {
   "display_name": "Python 3",
   "language": "python",
   "name": "python3"
  },
  "language_info": {
   "codemirror_mode": {
    "name": "ipython",
    "version": 3
   },
   "file_extension": ".py",
   "mimetype": "text/x-python",
   "name": "python",
   "nbconvert_exporter": "python",
   "pygments_lexer": "ipython3",
   "version": "3.6.5"
  }
 },
 "nbformat": 4,
 "nbformat_minor": 2
}
